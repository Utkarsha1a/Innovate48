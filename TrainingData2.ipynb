{
  "nbformat": 4,
  "nbformat_minor": 0,
  "metadata": {
    "colab": {
      "provenance": [],
      "gpuType": "T4",
      "authorship_tag": "ABX9TyPpqRp/siSvHJOChuYw5biO",
      "include_colab_link": true
    },
    "kernelspec": {
      "name": "python3",
      "display_name": "Python 3"
    },
    "language_info": {
      "name": "python"
    },
    "accelerator": "GPU"
  },
  "cells": [
    {
      "cell_type": "markdown",
      "metadata": {
        "id": "view-in-github",
        "colab_type": "text"
      },
      "source": [
        "<a href=\"https://colab.research.google.com/github/Utkarsha1a/Innovate48/blob/main/TrainingData2.ipynb\" target=\"_parent\"><img src=\"https://colab.research.google.com/assets/colab-badge.svg\" alt=\"Open In Colab\"/></a>"
      ]
    },
    {
      "cell_type": "code",
      "execution_count": null,
      "metadata": {
        "colab": {
          "base_uri": "https://localhost:8080/"
        },
        "id": "dehAB3873E-9",
        "outputId": "3d041020-73a6-4d85-bd74-268847fc49c0"
      },
      "outputs": [
        {
          "output_type": "stream",
          "name": "stdout",
          "text": [
            "Collecting python-docx\n",
            "  Downloading python-docx-0.8.11.tar.gz (5.6 MB)\n",
            "\u001b[?25l     \u001b[90m━━━━━━━━━━━━━━━━━━━━━━━━━━━━━━━━━━━━━━━━\u001b[0m \u001b[32m0.0/5.6 MB\u001b[0m \u001b[31m?\u001b[0m eta \u001b[36m-:--:--\u001b[0m\r\u001b[2K     \u001b[91m━━━━━━━━━━━━━━━━━━━━━━━━━━━━━\u001b[0m\u001b[90m╺\u001b[0m\u001b[90m━━━━━━━━━━\u001b[0m \u001b[32m4.0/5.6 MB\u001b[0m \u001b[31m121.2 MB/s\u001b[0m eta \u001b[36m0:00:01\u001b[0m\r\u001b[2K     \u001b[90m━━━━━━━━━━━━━━━━━━━━━━━━━━━━━━━━━━━━━━━━\u001b[0m \u001b[32m5.6/5.6 MB\u001b[0m \u001b[31m82.0 MB/s\u001b[0m eta \u001b[36m0:00:00\u001b[0m\n",
            "\u001b[?25h  Preparing metadata (setup.py) ... \u001b[?25l\u001b[?25hdone\n",
            "Requirement already satisfied: lxml>=2.3.2 in /usr/local/lib/python3.10/dist-packages (from python-docx) (4.9.3)\n",
            "Building wheels for collected packages: python-docx\n",
            "  Building wheel for python-docx (setup.py) ... \u001b[?25l\u001b[?25hdone\n",
            "  Created wheel for python-docx: filename=python_docx-0.8.11-py3-none-any.whl size=184491 sha256=87a7fba60ad9090116a07bf1bd8447c253bfa20bb0e7959e37c17ababe813ce3\n",
            "  Stored in directory: /root/.cache/pip/wheels/80/27/06/837436d4c3bd989b957a91679966f207bfd71d358d63a8194d\n",
            "Successfully built python-docx\n",
            "Installing collected packages: python-docx\n",
            "Successfully installed python-docx-0.8.11\n"
          ]
        }
      ],
      "source": [
        "pip install python-docx"
      ]
    },
    {
      "cell_type": "code",
      "source": [
        "from google.colab import files\n",
        "uploaded = files.upload()  #Upload .htm files name will be gov_Archives_edgar_data_312070_000148105723004452_form424b2.htm"
      ],
      "metadata": {
        "colab": {
          "base_uri": "https://localhost:8080/",
          "height": 233
        },
        "id": "n0kQSQqt3RKh",
        "outputId": "93059e71-f1e0-487f-c2c9-c49ce607ce8d"
      },
      "execution_count": null,
      "outputs": [
        {
          "output_type": "display_data",
          "data": {
            "text/plain": [
              "<IPython.core.display.HTML object>"
            ],
            "text/html": [
              "\n",
              "     <input type=\"file\" id=\"files-8de1886d-d4d3-4d19-925d-f563f92c9bea\" name=\"files[]\" multiple disabled\n",
              "        style=\"border:none\" />\n",
              "     <output id=\"result-8de1886d-d4d3-4d19-925d-f563f92c9bea\">\n",
              "      Upload widget is only available when the cell has been executed in the\n",
              "      current browser session. Please rerun this cell to enable.\n",
              "      </output>\n",
              "      <script>// Copyright 2017 Google LLC\n",
              "//\n",
              "// Licensed under the Apache License, Version 2.0 (the \"License\");\n",
              "// you may not use this file except in compliance with the License.\n",
              "// You may obtain a copy of the License at\n",
              "//\n",
              "//      http://www.apache.org/licenses/LICENSE-2.0\n",
              "//\n",
              "// Unless required by applicable law or agreed to in writing, software\n",
              "// distributed under the License is distributed on an \"AS IS\" BASIS,\n",
              "// WITHOUT WARRANTIES OR CONDITIONS OF ANY KIND, either express or implied.\n",
              "// See the License for the specific language governing permissions and\n",
              "// limitations under the License.\n",
              "\n",
              "/**\n",
              " * @fileoverview Helpers for google.colab Python module.\n",
              " */\n",
              "(function(scope) {\n",
              "function span(text, styleAttributes = {}) {\n",
              "  const element = document.createElement('span');\n",
              "  element.textContent = text;\n",
              "  for (const key of Object.keys(styleAttributes)) {\n",
              "    element.style[key] = styleAttributes[key];\n",
              "  }\n",
              "  return element;\n",
              "}\n",
              "\n",
              "// Max number of bytes which will be uploaded at a time.\n",
              "const MAX_PAYLOAD_SIZE = 100 * 1024;\n",
              "\n",
              "function _uploadFiles(inputId, outputId) {\n",
              "  const steps = uploadFilesStep(inputId, outputId);\n",
              "  const outputElement = document.getElementById(outputId);\n",
              "  // Cache steps on the outputElement to make it available for the next call\n",
              "  // to uploadFilesContinue from Python.\n",
              "  outputElement.steps = steps;\n",
              "\n",
              "  return _uploadFilesContinue(outputId);\n",
              "}\n",
              "\n",
              "// This is roughly an async generator (not supported in the browser yet),\n",
              "// where there are multiple asynchronous steps and the Python side is going\n",
              "// to poll for completion of each step.\n",
              "// This uses a Promise to block the python side on completion of each step,\n",
              "// then passes the result of the previous step as the input to the next step.\n",
              "function _uploadFilesContinue(outputId) {\n",
              "  const outputElement = document.getElementById(outputId);\n",
              "  const steps = outputElement.steps;\n",
              "\n",
              "  const next = steps.next(outputElement.lastPromiseValue);\n",
              "  return Promise.resolve(next.value.promise).then((value) => {\n",
              "    // Cache the last promise value to make it available to the next\n",
              "    // step of the generator.\n",
              "    outputElement.lastPromiseValue = value;\n",
              "    return next.value.response;\n",
              "  });\n",
              "}\n",
              "\n",
              "/**\n",
              " * Generator function which is called between each async step of the upload\n",
              " * process.\n",
              " * @param {string} inputId Element ID of the input file picker element.\n",
              " * @param {string} outputId Element ID of the output display.\n",
              " * @return {!Iterable<!Object>} Iterable of next steps.\n",
              " */\n",
              "function* uploadFilesStep(inputId, outputId) {\n",
              "  const inputElement = document.getElementById(inputId);\n",
              "  inputElement.disabled = false;\n",
              "\n",
              "  const outputElement = document.getElementById(outputId);\n",
              "  outputElement.innerHTML = '';\n",
              "\n",
              "  const pickedPromise = new Promise((resolve) => {\n",
              "    inputElement.addEventListener('change', (e) => {\n",
              "      resolve(e.target.files);\n",
              "    });\n",
              "  });\n",
              "\n",
              "  const cancel = document.createElement('button');\n",
              "  inputElement.parentElement.appendChild(cancel);\n",
              "  cancel.textContent = 'Cancel upload';\n",
              "  const cancelPromise = new Promise((resolve) => {\n",
              "    cancel.onclick = () => {\n",
              "      resolve(null);\n",
              "    };\n",
              "  });\n",
              "\n",
              "  // Wait for the user to pick the files.\n",
              "  const files = yield {\n",
              "    promise: Promise.race([pickedPromise, cancelPromise]),\n",
              "    response: {\n",
              "      action: 'starting',\n",
              "    }\n",
              "  };\n",
              "\n",
              "  cancel.remove();\n",
              "\n",
              "  // Disable the input element since further picks are not allowed.\n",
              "  inputElement.disabled = true;\n",
              "\n",
              "  if (!files) {\n",
              "    return {\n",
              "      response: {\n",
              "        action: 'complete',\n",
              "      }\n",
              "    };\n",
              "  }\n",
              "\n",
              "  for (const file of files) {\n",
              "    const li = document.createElement('li');\n",
              "    li.append(span(file.name, {fontWeight: 'bold'}));\n",
              "    li.append(span(\n",
              "        `(${file.type || 'n/a'}) - ${file.size} bytes, ` +\n",
              "        `last modified: ${\n",
              "            file.lastModifiedDate ? file.lastModifiedDate.toLocaleDateString() :\n",
              "                                    'n/a'} - `));\n",
              "    const percent = span('0% done');\n",
              "    li.appendChild(percent);\n",
              "\n",
              "    outputElement.appendChild(li);\n",
              "\n",
              "    const fileDataPromise = new Promise((resolve) => {\n",
              "      const reader = new FileReader();\n",
              "      reader.onload = (e) => {\n",
              "        resolve(e.target.result);\n",
              "      };\n",
              "      reader.readAsArrayBuffer(file);\n",
              "    });\n",
              "    // Wait for the data to be ready.\n",
              "    let fileData = yield {\n",
              "      promise: fileDataPromise,\n",
              "      response: {\n",
              "        action: 'continue',\n",
              "      }\n",
              "    };\n",
              "\n",
              "    // Use a chunked sending to avoid message size limits. See b/62115660.\n",
              "    let position = 0;\n",
              "    do {\n",
              "      const length = Math.min(fileData.byteLength - position, MAX_PAYLOAD_SIZE);\n",
              "      const chunk = new Uint8Array(fileData, position, length);\n",
              "      position += length;\n",
              "\n",
              "      const base64 = btoa(String.fromCharCode.apply(null, chunk));\n",
              "      yield {\n",
              "        response: {\n",
              "          action: 'append',\n",
              "          file: file.name,\n",
              "          data: base64,\n",
              "        },\n",
              "      };\n",
              "\n",
              "      let percentDone = fileData.byteLength === 0 ?\n",
              "          100 :\n",
              "          Math.round((position / fileData.byteLength) * 100);\n",
              "      percent.textContent = `${percentDone}% done`;\n",
              "\n",
              "    } while (position < fileData.byteLength);\n",
              "  }\n",
              "\n",
              "  // All done.\n",
              "  yield {\n",
              "    response: {\n",
              "      action: 'complete',\n",
              "    }\n",
              "  };\n",
              "}\n",
              "\n",
              "scope.google = scope.google || {};\n",
              "scope.google.colab = scope.google.colab || {};\n",
              "scope.google.colab._files = {\n",
              "  _uploadFiles,\n",
              "  _uploadFilesContinue,\n",
              "};\n",
              "})(self);\n",
              "</script> "
            ]
          },
          "metadata": {}
        },
        {
          "output_type": "stream",
          "name": "stdout",
          "text": [
            "Saving 452_form424b2.htm to 452_form424b2.htm\n",
            "Saving 462_form424b2.htm to 462_form424b2.htm\n",
            "Saving 467_form424b2.htm to 467_form424b2.htm\n",
            "Saving 477_form424b2.htm to 477_form424b2.htm\n",
            "Saving 504_dp195976_fwp-5052wfts.htm to 504_dp195976_fwp-5052wfts.htm\n"
          ]
        }
      ]
    },
    {
      "cell_type": "code",
      "source": [
        "# List down all htm files in colab directory\n",
        "import os\n",
        "data = []\n",
        "for filename in os.listdir('/content/'):\n",
        "    if filename.endswith(\"htm\"):\n",
        "        print(filename)\n",
        "        data.append(filename)\n"
      ],
      "metadata": {
        "colab": {
          "base_uri": "https://localhost:8080/"
        },
        "id": "UHAkj2LE3889",
        "outputId": "30790052-97b0-4d77-93bb-0018d5bd006e"
      },
      "execution_count": null,
      "outputs": [
        {
          "output_type": "stream",
          "name": "stdout",
          "text": [
            "000148105723004452_form424b2.htm\n",
            "000148105723004477_form424b2.htm\n",
            "000148105723004462_form424b2.htm\n",
            "000095010323009504_dp195976_fwp-5052wfts.htm\n",
            "000148105723004467_form424b2.htm\n"
          ]
        }
      ]
    },
    {
      "cell_type": "code",
      "source": [
        " # Create a new Word document from htm file\n",
        "\n",
        "from docx import Document\n",
        "from bs4 import BeautifulSoup\n",
        "import chardet\n",
        "\n",
        "def html_to_docx(html_file, output_file):\n",
        "    # Read the HTML file and detect the encoding\n",
        "    with open(html_file, 'rb') as file:\n",
        "        raw_data = file.read()\n",
        "        result = chardet.detect(raw_data)\n",
        "        encoding = result['encoding']\n",
        "    # Create a new Word document\n",
        "    doc = Document()\n",
        "    # Convert the HTML to plain text using the detected encoding\n",
        "    html_content = raw_data.decode(encoding)\n",
        "    soup = BeautifulSoup(html_content, 'html.parser')\n",
        "    plain_text = soup.get_text()\n",
        "    # Add the plain text content to the Word document\n",
        "    doc.add_paragraph(plain_text)\n",
        "    # Save the Word document\n",
        "    doc.save(output_file)\n",
        "\n",
        "\n",
        "# Convert HTML to Word\n",
        "for html_file in data:\n",
        "    print(html_file)\n",
        "    output_file=html_file.replace(\"htm\", \"docx\")\n",
        "    html_to_docx(html_file, output_file)\n",
        "    print(output_file)\n",
        "\n"
      ],
      "metadata": {
        "colab": {
          "base_uri": "https://localhost:8080/"
        },
        "id": "iu1EPeyq3swL",
        "outputId": "2a9ec45f-2c0b-4999-f00d-c3ecac378731"
      },
      "execution_count": null,
      "outputs": [
        {
          "output_type": "stream",
          "name": "stdout",
          "text": [
            "000148105723004452_form424b2.htm\n",
            "000148105723004452_form424b2.docx\n",
            "000148105723004477_form424b2.htm\n",
            "000148105723004477_form424b2.docx\n",
            "000148105723004462_form424b2.htm\n",
            "000148105723004462_form424b2.docx\n",
            "000095010323009504_dp195976_fwp-5052wfts.htm\n",
            "000095010323009504_dp195976_fwp-5052wfts.docx\n",
            "000148105723004467_form424b2.htm\n",
            "000148105723004467_form424b2.docx\n"
          ]
        }
      ]
    },
    {
      "cell_type": "code",
      "source": [
        "from docx import Document\n",
        "output = []\n",
        "for filename in os.listdir('/content/'):\n",
        "    if filename.endswith(\"docx\"):\n",
        "        output.append(filename)\n",
        "\n",
        "def extract_text_from_docx(docx_file):\n",
        "    # Create a Document object from the Word file\n",
        "    doc = Document(docx_file)\n",
        "    # Extract text from paragraphs\n",
        "    text = []\n",
        "    for paragraph in doc.paragraphs:\n",
        "        text.append(paragraph.text)\n",
        "    # Join the extracted text into a single string\n",
        "    extracted_text = '\\n'.join(text)\n",
        "    return extracted_text\n",
        "\n",
        "# Usage example\n",
        "#docx_file = 'output.docx'\n",
        "#extracted_text = extract_text_from_docx(docx_file)\n",
        "#print(extracted_text)\n",
        "\n",
        "content={}\n",
        "for file in output:\n",
        "    modified_filename = file.replace('.docx', '')\n",
        "    extracted_text = extract_text_from_docx(file)\n",
        "    # Remove empty lines and convert to a single line with space-separated words\n",
        "    extracted_text = ' '.join(line.strip() for line in extracted_text.splitlines() if line.strip())\n",
        "    #content.append(extracted_text)\n",
        "    content[modified_filename] = extracted_text\n",
        "\n",
        "#content dictonary :- key = filename & value = extracted data\n",
        "\n",
        "for key in content.keys():\n",
        "    print(key)"
      ],
      "metadata": {
        "colab": {
          "base_uri": "https://localhost:8080/"
        },
        "id": "XKPzgGCw5fFL",
        "outputId": "919c1fad-0514-4732-f857-1d589e79447f"
      },
      "execution_count": null,
      "outputs": [
        {
          "output_type": "stream",
          "name": "stdout",
          "text": [
            "000148105723004462_form424b2\n",
            "000148105723004467_form424b2\n",
            "000095010323009504_dp195976_fwp-5052wfts\n",
            "000148105723004452_form424b2\n",
            "000148105723004477_form424b2\n"
          ]
        }
      ]
    },
    {
      "cell_type": "code",
      "source": [
        "for val in content.values():\n",
        "    print(val)"
      ],
      "metadata": {
        "id": "aDvJ2UT76Qta"
      },
      "execution_count": null,
      "outputs": []
    },
    {
      "cell_type": "code",
      "source": [
        "#Upload Barclays.csv here\n",
        "\n",
        "from google.colab import files\n",
        "uploaded = files.upload()"
      ],
      "metadata": {
        "id": "rjQZv4-X_L4I",
        "outputId": "3feeac61-bb09-40ca-deda-a39e14f9e051",
        "colab": {
          "base_uri": "https://localhost:8080/",
          "height": 73
        }
      },
      "execution_count": null,
      "outputs": [
        {
          "output_type": "display_data",
          "data": {
            "text/plain": [
              "<IPython.core.display.HTML object>"
            ],
            "text/html": [
              "\n",
              "     <input type=\"file\" id=\"files-b99e7a65-c78c-4864-8666-e09f61faf33e\" name=\"files[]\" multiple disabled\n",
              "        style=\"border:none\" />\n",
              "     <output id=\"result-b99e7a65-c78c-4864-8666-e09f61faf33e\">\n",
              "      Upload widget is only available when the cell has been executed in the\n",
              "      current browser session. Please rerun this cell to enable.\n",
              "      </output>\n",
              "      <script>// Copyright 2017 Google LLC\n",
              "//\n",
              "// Licensed under the Apache License, Version 2.0 (the \"License\");\n",
              "// you may not use this file except in compliance with the License.\n",
              "// You may obtain a copy of the License at\n",
              "//\n",
              "//      http://www.apache.org/licenses/LICENSE-2.0\n",
              "//\n",
              "// Unless required by applicable law or agreed to in writing, software\n",
              "// distributed under the License is distributed on an \"AS IS\" BASIS,\n",
              "// WITHOUT WARRANTIES OR CONDITIONS OF ANY KIND, either express or implied.\n",
              "// See the License for the specific language governing permissions and\n",
              "// limitations under the License.\n",
              "\n",
              "/**\n",
              " * @fileoverview Helpers for google.colab Python module.\n",
              " */\n",
              "(function(scope) {\n",
              "function span(text, styleAttributes = {}) {\n",
              "  const element = document.createElement('span');\n",
              "  element.textContent = text;\n",
              "  for (const key of Object.keys(styleAttributes)) {\n",
              "    element.style[key] = styleAttributes[key];\n",
              "  }\n",
              "  return element;\n",
              "}\n",
              "\n",
              "// Max number of bytes which will be uploaded at a time.\n",
              "const MAX_PAYLOAD_SIZE = 100 * 1024;\n",
              "\n",
              "function _uploadFiles(inputId, outputId) {\n",
              "  const steps = uploadFilesStep(inputId, outputId);\n",
              "  const outputElement = document.getElementById(outputId);\n",
              "  // Cache steps on the outputElement to make it available for the next call\n",
              "  // to uploadFilesContinue from Python.\n",
              "  outputElement.steps = steps;\n",
              "\n",
              "  return _uploadFilesContinue(outputId);\n",
              "}\n",
              "\n",
              "// This is roughly an async generator (not supported in the browser yet),\n",
              "// where there are multiple asynchronous steps and the Python side is going\n",
              "// to poll for completion of each step.\n",
              "// This uses a Promise to block the python side on completion of each step,\n",
              "// then passes the result of the previous step as the input to the next step.\n",
              "function _uploadFilesContinue(outputId) {\n",
              "  const outputElement = document.getElementById(outputId);\n",
              "  const steps = outputElement.steps;\n",
              "\n",
              "  const next = steps.next(outputElement.lastPromiseValue);\n",
              "  return Promise.resolve(next.value.promise).then((value) => {\n",
              "    // Cache the last promise value to make it available to the next\n",
              "    // step of the generator.\n",
              "    outputElement.lastPromiseValue = value;\n",
              "    return next.value.response;\n",
              "  });\n",
              "}\n",
              "\n",
              "/**\n",
              " * Generator function which is called between each async step of the upload\n",
              " * process.\n",
              " * @param {string} inputId Element ID of the input file picker element.\n",
              " * @param {string} outputId Element ID of the output display.\n",
              " * @return {!Iterable<!Object>} Iterable of next steps.\n",
              " */\n",
              "function* uploadFilesStep(inputId, outputId) {\n",
              "  const inputElement = document.getElementById(inputId);\n",
              "  inputElement.disabled = false;\n",
              "\n",
              "  const outputElement = document.getElementById(outputId);\n",
              "  outputElement.innerHTML = '';\n",
              "\n",
              "  const pickedPromise = new Promise((resolve) => {\n",
              "    inputElement.addEventListener('change', (e) => {\n",
              "      resolve(e.target.files);\n",
              "    });\n",
              "  });\n",
              "\n",
              "  const cancel = document.createElement('button');\n",
              "  inputElement.parentElement.appendChild(cancel);\n",
              "  cancel.textContent = 'Cancel upload';\n",
              "  const cancelPromise = new Promise((resolve) => {\n",
              "    cancel.onclick = () => {\n",
              "      resolve(null);\n",
              "    };\n",
              "  });\n",
              "\n",
              "  // Wait for the user to pick the files.\n",
              "  const files = yield {\n",
              "    promise: Promise.race([pickedPromise, cancelPromise]),\n",
              "    response: {\n",
              "      action: 'starting',\n",
              "    }\n",
              "  };\n",
              "\n",
              "  cancel.remove();\n",
              "\n",
              "  // Disable the input element since further picks are not allowed.\n",
              "  inputElement.disabled = true;\n",
              "\n",
              "  if (!files) {\n",
              "    return {\n",
              "      response: {\n",
              "        action: 'complete',\n",
              "      }\n",
              "    };\n",
              "  }\n",
              "\n",
              "  for (const file of files) {\n",
              "    const li = document.createElement('li');\n",
              "    li.append(span(file.name, {fontWeight: 'bold'}));\n",
              "    li.append(span(\n",
              "        `(${file.type || 'n/a'}) - ${file.size} bytes, ` +\n",
              "        `last modified: ${\n",
              "            file.lastModifiedDate ? file.lastModifiedDate.toLocaleDateString() :\n",
              "                                    'n/a'} - `));\n",
              "    const percent = span('0% done');\n",
              "    li.appendChild(percent);\n",
              "\n",
              "    outputElement.appendChild(li);\n",
              "\n",
              "    const fileDataPromise = new Promise((resolve) => {\n",
              "      const reader = new FileReader();\n",
              "      reader.onload = (e) => {\n",
              "        resolve(e.target.result);\n",
              "      };\n",
              "      reader.readAsArrayBuffer(file);\n",
              "    });\n",
              "    // Wait for the data to be ready.\n",
              "    let fileData = yield {\n",
              "      promise: fileDataPromise,\n",
              "      response: {\n",
              "        action: 'continue',\n",
              "      }\n",
              "    };\n",
              "\n",
              "    // Use a chunked sending to avoid message size limits. See b/62115660.\n",
              "    let position = 0;\n",
              "    do {\n",
              "      const length = Math.min(fileData.byteLength - position, MAX_PAYLOAD_SIZE);\n",
              "      const chunk = new Uint8Array(fileData, position, length);\n",
              "      position += length;\n",
              "\n",
              "      const base64 = btoa(String.fromCharCode.apply(null, chunk));\n",
              "      yield {\n",
              "        response: {\n",
              "          action: 'append',\n",
              "          file: file.name,\n",
              "          data: base64,\n",
              "        },\n",
              "      };\n",
              "\n",
              "      let percentDone = fileData.byteLength === 0 ?\n",
              "          100 :\n",
              "          Math.round((position / fileData.byteLength) * 100);\n",
              "      percent.textContent = `${percentDone}% done`;\n",
              "\n",
              "    } while (position < fileData.byteLength);\n",
              "  }\n",
              "\n",
              "  // All done.\n",
              "  yield {\n",
              "    response: {\n",
              "      action: 'complete',\n",
              "    }\n",
              "  };\n",
              "}\n",
              "\n",
              "scope.google = scope.google || {};\n",
              "scope.google.colab = scope.google.colab || {};\n",
              "scope.google.colab._files = {\n",
              "  _uploadFiles,\n",
              "  _uploadFilesContinue,\n",
              "};\n",
              "})(self);\n",
              "</script> "
            ]
          },
          "metadata": {}
        },
        {
          "output_type": "stream",
          "name": "stdout",
          "text": [
            "Saving Barclays.csv to Barclays (2).csv\n"
          ]
        }
      ]
    },
    {
      "cell_type": "code",
      "source": [
        "import pandas as pd\n",
        "import json"
      ],
      "metadata": {
        "id": "3qYaEPlvGyF7"
      },
      "execution_count": null,
      "outputs": []
    },
    {
      "cell_type": "code",
      "source": [
        "csv_file = 'Barclays.csv'  # Replace 'data.csv' with the path to your CSV file\n",
        "\n",
        "df = pd.read_csv(csv_file, encoding='ISO-8859-1')\n",
        "\n",
        "df['NewColumn'] = df['FilerPageLink'].str.extract(r'\\/(\\d+\\/[\\w.-]+)$')[0].str.replace('/', '_').str.replace('.htm$', '')\n",
        "df['ExtractedText'] = df['NewColumn'].apply(lambda x: content[x] if x in content else '')\n"
      ],
      "metadata": {
        "id": "vY8uVuREHAaV",
        "outputId": "aadc0d06-9b96-4c6b-ffd2-d3a7711f39e8",
        "colab": {
          "base_uri": "https://localhost:8080/"
        }
      },
      "execution_count": null,
      "outputs": [
        {
          "output_type": "stream",
          "name": "stderr",
          "text": [
            "<ipython-input-87-48a7c84166e5>:7: FutureWarning: The default value of regex will change from True to False in a future version.\n",
            "  df['NewColumn'] = df['FilerPageLink'].str.extract(r'\\/(\\d+\\/[\\w.-]+)$')[0].str.replace('/', '_').str.replace('.htm$', '')\n"
          ]
        }
      ]
    },
    {
      "cell_type": "code",
      "source": [
        "print(df['FileName'])"
      ],
      "metadata": {
        "id": "D5ZSGiLMMZKv",
        "outputId": "26b5a551-2ee4-42e8-c3ac-dd0adafa3cfe",
        "colab": {
          "base_uri": "https://localhost:8080/"
        }
      },
      "execution_count": null,
      "outputs": [
        {
          "output_type": "stream",
          "name": "stdout",
          "text": [
            "0    W:\\archive\\2023\\02384722.htm\n",
            "1    W:\\archive\\2023\\02384724.htm\n",
            "2    W:\\archive\\2023\\02384714.htm\n",
            "3    W:\\archive\\2023\\02384718.htm\n",
            "4    W:\\archive\\2023\\02384717.htm\n",
            "Name: FileName, dtype: object\n"
          ]
        }
      ]
    },
    {
      "cell_type": "code",
      "source": [
        "csv_file = 'Barclays.csv'  # Replace 'data.csv' with the path to your CSV file\n",
        "json_file = 'traindata.json'  # Replace 'data.json' with the desired output JSON file\n",
        "\n",
        "data_list = []\n",
        "\n",
        "# Iterate over each row in the DataFrame\n",
        "for index, row in df.iterrows():\n",
        "    data = {\n",
        "        \"context\": row[\"ExtractedText\"],\n",
        "        \"qas\": [\n",
        "            {\n",
        "                \"question\": \"What is the CUSIPno?\",\n",
        "                \"answers\": [{\"text\":row[\"CUSIP\"]}]\n",
        "            },\n",
        "            {\n",
        "                \"question\": \"What is the Maturity date?\",\n",
        "                \"answers\": [{\"text\":row[\"MaturityDate\"]}]\n",
        "            },\n",
        "            {\n",
        "                \"question\": \"What is the Maturity date?\",\n",
        "                \"answers\": [{\"text\":row[\"IssueDate\"]}]\n",
        "            },\n",
        "        ]\n",
        "    }\n",
        "    data_list.append(data)\n",
        "\n",
        "# Print the data structure for each row\n",
        "for data in data_list:\n",
        "    print(data)\n",
        "\n",
        "with open(json_file, 'w') as file:\n",
        "  json.dump(data_list, file, indent=4)"
      ],
      "metadata": {
        "id": "2hnwHeauQblo",
        "outputId": "fddccdff-866b-441e-dbac-7fba078af376",
        "colab": {
          "base_uri": "https://localhost:8080/"
        }
      },
      "execution_count": null,
      "outputs": [
        {
          "output_type": "stream",
          "name": "stdout",
          "text": [
            "{'context': '000148105723004452_form424b2', 'qas': [{'question': 'What is the CUSIPno?', 'answer': '06745MMC9 / US06745MMC90'}, {'question': 'What is the Maturity date?', 'answer': 'July 3, 2025'}, {'question': 'What is the Maturity date?', 'answer': 'July 6, 2023'}]}\n",
            "{'context': '000095010323009504_dp195976_fwp-5052wfts', 'qas': [{'question': 'What is the CUSIPno?', 'answer': nan}, {'question': 'What is the Maturity date?', 'answer': nan}, {'question': 'What is the Maturity date?', 'answer': nan}]}\n",
            "{'context': '000148105723004462_form424b2', 'qas': [{'question': 'What is the CUSIPno?', 'answer': '06745MMH8 / US06745MMH87'}, {'question': 'What is the Maturity date?', 'answer': 'July 2, 2026'}, {'question': 'What is the Maturity date?', 'answer': 'July 3, 2023'}]}\n",
            "{'context': '000148105723004477_form424b2', 'qas': [{'question': 'What is the CUSIPno?', 'answer': '06741W6C9 / US06741W6C99'}, {'question': 'What is the Maturity date?', 'answer': 'July 3, 2025'}, {'question': 'What is the Maturity date?', 'answer': 'July 6, 2023'}]}\n",
            "{'context': '000148105723004467_form424b2', 'qas': [{'question': 'What is the CUSIPno?', 'answer': '06745MMK1 / US06745MMK17'}, {'question': 'What is the Maturity date?', 'answer': 'July 2, 2026'}, {'question': 'What is the Maturity date?', 'answer': 'June 30, 2023'}]}\n"
          ]
        }
      ]
    },
    {
      "cell_type": "code",
      "source": [],
      "metadata": {
        "id": "IaJaViRv7OYo"
      },
      "execution_count": null,
      "outputs": []
    },
    {
      "cell_type": "code",
      "source": [],
      "metadata": {
        "id": "zpgM7vRX7IUI"
      },
      "execution_count": null,
      "outputs": []
    },
    {
      "cell_type": "code",
      "source": [],
      "metadata": {
        "id": "IOLgtADKS07u"
      },
      "execution_count": null,
      "outputs": []
    },
    {
      "cell_type": "code",
      "source": [],
      "metadata": {
        "id": "4H_kxX-1_cko"
      },
      "execution_count": null,
      "outputs": []
    }
  ]
}